{
  "nbformat": 4,
  "nbformat_minor": 0,
  "metadata": {
    "colab": {
      "name": "CCFinalProjectSree.ipynb",
      "provenance": []
    },
    "kernelspec": {
      "name": "python3",
      "display_name": "Python 3"
    },
    "language_info": {
      "name": "python"
    }
  },
  "cells": [
    {
      "cell_type": "markdown",
      "source": [
        "## Data processing and Evaluation\n",
        "This notebook is for the purpose of preparing the task 2 input data from output of task 1. \n",
        "\n",
        "#### Step 1: Load the data for task 1"
      ],
      "metadata": {
        "id": "rtaTBgiGD5Kq"
      }
    },
    {
      "cell_type": "code",
      "source": [
        "from google.colab import drive\n",
        "drive.mount('/content/drive')"
      ],
      "metadata": {
        "colab": {
          "base_uri": "https://localhost:8080/"
        },
        "id": "2sCHH7MHsJR0",
        "outputId": "47296d17-8f44-4084-bb90-bfa662e1a315"
      },
      "execution_count": 1,
      "outputs": [
        {
          "output_type": "stream",
          "name": "stdout",
          "text": [
            "Mounted at /content/drive\n"
          ]
        }
      ]
    },
    {
      "cell_type": "code",
      "source": [
        "%cd '/content/drive/MyDrive/TU_Delft_DST/crowd_computing/crowd-sorcerers'"
      ],
      "metadata": {
        "colab": {
          "base_uri": "https://localhost:8080/"
        },
        "id": "JJxVyaeETRvM",
        "outputId": "57d2468c-27f3-4ce5-e8ae-18773c924bda"
      },
      "execution_count": 2,
      "outputs": [
        {
          "output_type": "stream",
          "name": "stdout",
          "text": [
            "/content/drive/MyDrive/TU_Delft_DST/crowd_computing/crowd-sorcerers\n"
          ]
        }
      ]
    },
    {
      "cell_type": "code",
      "execution_count": 51,
      "metadata": {
        "colab": {
          "base_uri": "https://localhost:8080/"
        },
        "id": "HNpe2G1qXaWC",
        "outputId": "48a5d882-56ef-498e-e7fe-39e5b27eb632"
      },
      "outputs": [
        {
          "output_type": "stream",
          "name": "stdout",
          "text": [
            "remote: Enumerating objects: 6, done.\u001b[K\n",
            "remote: Counting objects:  16% (1/6)\u001b[K\rremote: Counting objects:  33% (2/6)\u001b[K\rremote: Counting objects:  50% (3/6)\u001b[K\rremote: Counting objects:  66% (4/6)\u001b[K\rremote: Counting objects:  83% (5/6)\u001b[K\rremote: Counting objects: 100% (6/6)\u001b[K\rremote: Counting objects: 100% (6/6), done.\u001b[K\n",
            "remote: Compressing objects:  25% (1/4)\u001b[K\rremote: Compressing objects:  50% (2/4)\u001b[K\rremote: Compressing objects:  75% (3/4)\u001b[K\rremote: Compressing objects: 100% (4/4)\u001b[K\rremote: Compressing objects: 100% (4/4), done.\u001b[K\n",
            "remote: Total 5 (delta 1), reused 5 (delta 1), pack-reused 0\u001b[K\n",
            "Unpacking objects:  20% (1/5)   \rUnpacking objects:  40% (2/5)   \rUnpacking objects:  60% (3/5)   \rUnpacking objects:  80% (4/5)   \rUnpacking objects: 100% (5/5)   \rUnpacking objects: 100% (5/5), done.\n",
            "From https://github.com/nstruharova/crowd-sorcerers\n",
            "   6c4927c..f998eba  main       -> origin/main\n",
            "Updating 6c4927c..f998eba\n",
            "Fast-forward\n",
            " output_task2/ChatMessages-2022-06-13.csv |  83 \u001b[32m+++\u001b[m\n",
            " output_task2/wsd_app_2022-06-13.csv      | 841 \u001b[32m+++++++++++++++++++++++++++++++\u001b[m\n",
            " 2 files changed, 924 insertions(+)\n",
            " create mode 100644 output_task2/ChatMessages-2022-06-13.csv\n",
            " create mode 100644 output_task2/wsd_app_2022-06-13.csv\n"
          ]
        }
      ],
      "source": [
        "#Uncomment the following lines if running this notebook for the first time\n",
        "\n",
        "\n",
        "# !git clone https://github.com/nstruharova/crowd-sorcerers.git\n",
        "# %cd crowd-sorcerers/\n",
        "#!git pull"
      ]
    },
    {
      "cell_type": "code",
      "source": [
        "#The output of this folder should be './crowd-sorcerers'\n",
        "%pwd"
      ],
      "metadata": {
        "colab": {
          "base_uri": "https://localhost:8080/",
          "height": 35
        },
        "id": "AT8EofnxXqaz",
        "outputId": "8b15df18-ce74-4d9e-aac1-78f0471100a1"
      },
      "execution_count": 3,
      "outputs": [
        {
          "output_type": "execute_result",
          "data": {
            "text/plain": [
              "'/content/drive/MyDrive/TU_Delft_DST/crowd_computing/crowd-sorcerers'"
            ],
            "application/vnd.google.colaboratory.intrinsic+json": {
              "type": "string"
            }
          },
          "metadata": {},
          "execution_count": 3
        }
      ]
    },
    {
      "cell_type": "code",
      "source": [
        "#Creating the json file from the tsv file generated from the output of task 1 on toloka\n",
        "import json\n",
        "def tsv2json(input_file,output_file):\n",
        "    arr = []\n",
        "    file = open(input_file, 'r')\n",
        "    a = file.readline()\n",
        "    titles = [t.strip() for t in a.split('\\t')]\n",
        "    for line in file:\n",
        "        d = {}\n",
        "        for t, f in zip(titles, line.split('\\t')):\n",
        "            \n",
        "            d[t] = f.strip()\n",
        "              \n",
        "        arr.append(d)\n",
        "          \n",
        "    with open(output_file, 'w', encoding='utf-8') as output_file:\n",
        "        output_file.write(json.dumps(arr, indent=4))\n"
      ],
      "metadata": {
        "id": "5dLqK_XyftBv"
      },
      "execution_count": 4,
      "outputs": []
    },
    {
      "cell_type": "code",
      "source": [
        "tsv2json('task 1/results/res_10_percent.tsv', 'task 1/results/res_10_percent.json')"
      ],
      "metadata": {
        "id": "35e617YPgMOX"
      },
      "execution_count": 5,
      "outputs": []
    },
    {
      "cell_type": "code",
      "source": [
        "f = open('task 1/results/res_10_percent.json')\n",
        "data = json.load(f)"
      ],
      "metadata": {
        "id": "_aSVBBk1hZHJ"
      },
      "execution_count": 6,
      "outputs": []
    },
    {
      "cell_type": "code",
      "source": [
        "import pandas as pd\n",
        "df_task1 = pd.DataFrame(data)\n",
        "df_task1.head(2)"
      ],
      "metadata": {
        "id": "gz8B9A2Bol-d",
        "colab": {
          "base_uri": "https://localhost:8080/",
          "height": 315
        },
        "outputId": "abd3b314-3ec9-415c-8bb1-f4405d659bb7"
      },
      "execution_count": 8,
      "outputs": [
        {
          "output_type": "execute_result",
          "data": {
            "text/plain": [
              "  INPUT:id                                        INPUT:sense INPUT:phrase  \\\n",
              "0        8  \"\"\"the products of human creativity; works of ...          art   \n",
              "1      282  \"\"\"suitable to or characteristic of drama\"\",\"\"...     dramatic   \n",
              "\n",
              "                                      INPUT:sentence  \\\n",
              "0  It is easy to see why the ancient art is on th...   \n",
              "1              It flopped all around, real dramatic!   \n",
              "\n",
              "                                       OUTPUT:answer GOLDEN:answer HINT:text  \\\n",
              "0  \"\"\"the creation of beautiful or significant th...                           \n",
              "1     \"\"\"pertaining to or characteristic of drama\"\"\"                           \n",
              "\n",
              "  HINT:default_language                                    ASSIGNMENT:link  \\\n",
              "0                        https://toloka.yandex.ru/task/33830683/0002043...   \n",
              "1                        https://toloka.yandex.ru/task/33830683/0002043...   \n",
              "\n",
              "                     ASSIGNMENT:task_id              ASSIGNMENT:assignment_id  \\\n",
              "0  000204371b--62a099c03e94fd20f6228d76  000204371b--62a09e4c996da35cd762332f   \n",
              "1  000204371b--62a099c03e94fd20f6228e88  000204371b--62a09e4c996da35cd762332f   \n",
              "\n",
              "               ASSIGNMENT:worker_id ASSIGNMENT:status       ASSIGNMENT:started  \n",
              "0  a5142f3e65e89f0d294e14c5bd09ac2f          APPROVED  2022-06-08T13:04:12.120  \n",
              "1  a5142f3e65e89f0d294e14c5bd09ac2f          APPROVED  2022-06-08T13:04:12.120  "
            ],
            "text/html": [
              "\n",
              "  <div id=\"df-14aa5e2a-ee23-41eb-bd14-b3d937cf5b5e\">\n",
              "    <div class=\"colab-df-container\">\n",
              "      <div>\n",
              "<style scoped>\n",
              "    .dataframe tbody tr th:only-of-type {\n",
              "        vertical-align: middle;\n",
              "    }\n",
              "\n",
              "    .dataframe tbody tr th {\n",
              "        vertical-align: top;\n",
              "    }\n",
              "\n",
              "    .dataframe thead th {\n",
              "        text-align: right;\n",
              "    }\n",
              "</style>\n",
              "<table border=\"1\" class=\"dataframe\">\n",
              "  <thead>\n",
              "    <tr style=\"text-align: right;\">\n",
              "      <th></th>\n",
              "      <th>INPUT:id</th>\n",
              "      <th>INPUT:sense</th>\n",
              "      <th>INPUT:phrase</th>\n",
              "      <th>INPUT:sentence</th>\n",
              "      <th>OUTPUT:answer</th>\n",
              "      <th>GOLDEN:answer</th>\n",
              "      <th>HINT:text</th>\n",
              "      <th>HINT:default_language</th>\n",
              "      <th>ASSIGNMENT:link</th>\n",
              "      <th>ASSIGNMENT:task_id</th>\n",
              "      <th>ASSIGNMENT:assignment_id</th>\n",
              "      <th>ASSIGNMENT:worker_id</th>\n",
              "      <th>ASSIGNMENT:status</th>\n",
              "      <th>ASSIGNMENT:started</th>\n",
              "    </tr>\n",
              "  </thead>\n",
              "  <tbody>\n",
              "    <tr>\n",
              "      <th>0</th>\n",
              "      <td>8</td>\n",
              "      <td>\"\"\"the products of human creativity; works of ...</td>\n",
              "      <td>art</td>\n",
              "      <td>It is easy to see why the ancient art is on th...</td>\n",
              "      <td>\"\"\"the creation of beautiful or significant th...</td>\n",
              "      <td></td>\n",
              "      <td></td>\n",
              "      <td></td>\n",
              "      <td>https://toloka.yandex.ru/task/33830683/0002043...</td>\n",
              "      <td>000204371b--62a099c03e94fd20f6228d76</td>\n",
              "      <td>000204371b--62a09e4c996da35cd762332f</td>\n",
              "      <td>a5142f3e65e89f0d294e14c5bd09ac2f</td>\n",
              "      <td>APPROVED</td>\n",
              "      <td>2022-06-08T13:04:12.120</td>\n",
              "    </tr>\n",
              "    <tr>\n",
              "      <th>1</th>\n",
              "      <td>282</td>\n",
              "      <td>\"\"\"suitable to or characteristic of drama\"\",\"\"...</td>\n",
              "      <td>dramatic</td>\n",
              "      <td>It flopped all around, real dramatic!</td>\n",
              "      <td>\"\"\"pertaining to or characteristic of drama\"\"\"</td>\n",
              "      <td></td>\n",
              "      <td></td>\n",
              "      <td></td>\n",
              "      <td>https://toloka.yandex.ru/task/33830683/0002043...</td>\n",
              "      <td>000204371b--62a099c03e94fd20f6228e88</td>\n",
              "      <td>000204371b--62a09e4c996da35cd762332f</td>\n",
              "      <td>a5142f3e65e89f0d294e14c5bd09ac2f</td>\n",
              "      <td>APPROVED</td>\n",
              "      <td>2022-06-08T13:04:12.120</td>\n",
              "    </tr>\n",
              "  </tbody>\n",
              "</table>\n",
              "</div>\n",
              "      <button class=\"colab-df-convert\" onclick=\"convertToInteractive('df-14aa5e2a-ee23-41eb-bd14-b3d937cf5b5e')\"\n",
              "              title=\"Convert this dataframe to an interactive table.\"\n",
              "              style=\"display:none;\">\n",
              "        \n",
              "  <svg xmlns=\"http://www.w3.org/2000/svg\" height=\"24px\"viewBox=\"0 0 24 24\"\n",
              "       width=\"24px\">\n",
              "    <path d=\"M0 0h24v24H0V0z\" fill=\"none\"/>\n",
              "    <path d=\"M18.56 5.44l.94 2.06.94-2.06 2.06-.94-2.06-.94-.94-2.06-.94 2.06-2.06.94zm-11 1L8.5 8.5l.94-2.06 2.06-.94-2.06-.94L8.5 2.5l-.94 2.06-2.06.94zm10 10l.94 2.06.94-2.06 2.06-.94-2.06-.94-.94-2.06-.94 2.06-2.06.94z\"/><path d=\"M17.41 7.96l-1.37-1.37c-.4-.4-.92-.59-1.43-.59-.52 0-1.04.2-1.43.59L10.3 9.45l-7.72 7.72c-.78.78-.78 2.05 0 2.83L4 21.41c.39.39.9.59 1.41.59.51 0 1.02-.2 1.41-.59l7.78-7.78 2.81-2.81c.8-.78.8-2.07 0-2.86zM5.41 20L4 18.59l7.72-7.72 1.47 1.35L5.41 20z\"/>\n",
              "  </svg>\n",
              "      </button>\n",
              "      \n",
              "  <style>\n",
              "    .colab-df-container {\n",
              "      display:flex;\n",
              "      flex-wrap:wrap;\n",
              "      gap: 12px;\n",
              "    }\n",
              "\n",
              "    .colab-df-convert {\n",
              "      background-color: #E8F0FE;\n",
              "      border: none;\n",
              "      border-radius: 50%;\n",
              "      cursor: pointer;\n",
              "      display: none;\n",
              "      fill: #1967D2;\n",
              "      height: 32px;\n",
              "      padding: 0 0 0 0;\n",
              "      width: 32px;\n",
              "    }\n",
              "\n",
              "    .colab-df-convert:hover {\n",
              "      background-color: #E2EBFA;\n",
              "      box-shadow: 0px 1px 2px rgba(60, 64, 67, 0.3), 0px 1px 3px 1px rgba(60, 64, 67, 0.15);\n",
              "      fill: #174EA6;\n",
              "    }\n",
              "\n",
              "    [theme=dark] .colab-df-convert {\n",
              "      background-color: #3B4455;\n",
              "      fill: #D2E3FC;\n",
              "    }\n",
              "\n",
              "    [theme=dark] .colab-df-convert:hover {\n",
              "      background-color: #434B5C;\n",
              "      box-shadow: 0px 1px 3px 1px rgba(0, 0, 0, 0.15);\n",
              "      filter: drop-shadow(0px 1px 2px rgba(0, 0, 0, 0.3));\n",
              "      fill: #FFFFFF;\n",
              "    }\n",
              "  </style>\n",
              "\n",
              "      <script>\n",
              "        const buttonEl =\n",
              "          document.querySelector('#df-14aa5e2a-ee23-41eb-bd14-b3d937cf5b5e button.colab-df-convert');\n",
              "        buttonEl.style.display =\n",
              "          google.colab.kernel.accessAllowed ? 'block' : 'none';\n",
              "\n",
              "        async function convertToInteractive(key) {\n",
              "          const element = document.querySelector('#df-14aa5e2a-ee23-41eb-bd14-b3d937cf5b5e');\n",
              "          const dataTable =\n",
              "            await google.colab.kernel.invokeFunction('convertToInteractive',\n",
              "                                                     [key], {});\n",
              "          if (!dataTable) return;\n",
              "\n",
              "          const docLinkHtml = 'Like what you see? Visit the ' +\n",
              "            '<a target=\"_blank\" href=https://colab.research.google.com/notebooks/data_table.ipynb>data table notebook</a>'\n",
              "            + ' to learn more about interactive tables.';\n",
              "          element.innerHTML = '';\n",
              "          dataTable['output_type'] = 'display_data';\n",
              "          await google.colab.output.renderOutput(dataTable, element);\n",
              "          const docLink = document.createElement('div');\n",
              "          docLink.innerHTML = docLinkHtml;\n",
              "          element.appendChild(docLink);\n",
              "        }\n",
              "      </script>\n",
              "    </div>\n",
              "  </div>\n",
              "  "
            ]
          },
          "metadata": {},
          "execution_count": 8
        }
      ]
    },
    {
      "cell_type": "markdown",
      "source": [
        "#### Step 2: Extract and format the ground truth data "
      ],
      "metadata": {
        "id": "iaP_0I4rT5c7"
      }
    },
    {
      "cell_type": "code",
      "source": [
        "# The current code is just a proof of concept, so the ground truth contains only 10 most confusing phrases. \n",
        "# the format of the gold_data here is: for one ambiguous phrase we have ['the_ambiguous phrase', 'correct_sense', 'input_sentence']\n",
        "gold_data = [['challenges','questioning a statement and demanding an explanation', 'Kagan served as solicitor general in the Obama administration when the first legal challenges to the law were brought at the trial court level.'],\n",
        "             ['nodded', 'lower and raise the head, as to indicate assent or agreement or confirmation', 'The man closed his eyes and nodded.'],\n",
        "             ['nodded', 'express or signify by nodding', 'Five minutes later, before Haney could make his break, the stranger stood up and nodded farewell.'],\n",
        "             ['nodded', 'express or signify by nodding', 'Pete nodded understandingly.'],\n",
        "             ['equity', 'conformity with rules or standards', 'Whether they are or are not underpaid is a problem of equity; it is not an educational problem.'],\n",
        "             ['equity', 'the ownership interest of shareholders in a corporation', ' If you were especially helpful in a corrupt scheme you received not just cash in a bag, but equity.'],\n",
        "             ['workers', 'a person who works at a specific occupation', 'Fears about the impact of immigrants are based on the notion that they are liable to replace native workers, in particular unskilled ones, exerting downward pressure on wages.'],\n",
        "             ['workers', 'a person who works at a specific occupation', 'The gender and ethnic backgrounds of workers and how these relate to age discrimination are examined.The gender and ethnic backgrounds of workers and how these relate to age discrimination are examined.'],\n",
        "             ['individual', 'being or characteristic of a single thing or person','The individual voter \\'s standing consequently will be enhanced through lower taxes.'],\n",
        "             ['descending', 'move downward and lower, but not necessarily all the way', 'Only when one is ascending-- or in our case descending a tad trop rapidement-- does one feel, well, airborne in a picnic basket.']]\n"
      ],
      "metadata": {
        "id": "UP_K8l3X67Fe"
      },
      "execution_count": 9,
      "outputs": []
    },
    {
      "cell_type": "markdown",
      "source": [
        "#### Step 3: Prepare the list of task 1 results relevant for evaluation"
      ],
      "metadata": {
        "id": "FQLAD3SRVclL"
      }
    },
    {
      "cell_type": "code",
      "source": [
        "# Checks if an input phrase has gold data available. Only those output phrases will be filtered for which we have the the ground truth values \n",
        "def inGold(task2data, golddata):\n",
        "  for gold in golddata:\n",
        "    if (task2data[0] == gold[0]) and (task2data[2] == gold[2]):\n",
        "      return True\n",
        "  return False"
      ],
      "metadata": {
        "id": "wqOHufw1o2h-"
      },
      "execution_count": 10,
      "outputs": []
    },
    {
      "cell_type": "code",
      "source": [
        "#Compares task data output to gold data\n",
        "def compareData(taskdata, golddata):\n",
        "  for gold in golddata:\n",
        "    if (taskdata[0] == gold[0]) and (taskdata[1] == gold[1]) and (taskdata[2] == gold[2]):\n",
        "      return True\n",
        "  return False"
      ],
      "metadata": {
        "id": "o5iGbkfKi9Mx"
      },
      "execution_count": 18,
      "outputs": []
    },
    {
      "cell_type": "code",
      "source": [
        "# Filtering the list of phrases for which we have the ground values\n",
        "list_of_pred_task1 = []\n",
        "for idx, row in df_task1.iterrows():\n",
        "  ans_str = row['OUTPUT:answer'].strip('\"')\n",
        "  list_of_pred_task1.append([row['INPUT:phrase'],ans_str,row['INPUT:sentence']])\n",
        "filtered_list_pred_task1 = []\n",
        "for ans in list_of_pred_task1:\n",
        "  if inGold(ans, gold_data):\n",
        "    filtered_list_pred_task1.append(ans)"
      ],
      "metadata": {
        "id": "3d4ckMEKPkSM"
      },
      "execution_count": 19,
      "outputs": []
    },
    {
      "cell_type": "markdown",
      "source": [
        "#### Step 4: Evaluate **task 1** for confusing phrases "
      ],
      "metadata": {
        "id": "2YIncKB-Xbm1"
      }
    },
    {
      "cell_type": "code",
      "source": [
        "number_of_correct_responses_task1 = 0\n",
        "for pred in filtered_list_pred_task1:  \n",
        "  if compareData(pred, gold_data):\n",
        "    number_of_correct_responses_task1 += 1\n",
        "print(number_of_correct_responses_task1/len(filtered_list_pred_task1))"
      ],
      "metadata": {
        "colab": {
          "base_uri": "https://localhost:8080/"
        },
        "id": "9FspiA0FnqUJ",
        "outputId": "f2f12cea-3236-473a-9d7e-0c2cb51ab81b"
      },
      "execution_count": 20,
      "outputs": [
        {
          "output_type": "stream",
          "name": "stdout",
          "text": [
            "0.3333333333333333\n"
          ]
        }
      ]
    },
    {
      "cell_type": "markdown",
      "source": [
        ""
      ],
      "metadata": {
        "id": "t3AXdzwUYcBu"
      }
    },
    {
      "cell_type": "markdown",
      "source": [
        "#### Step 5: Load data for **task 2**"
      ],
      "metadata": {
        "id": "lTgNc-OXZ75x"
      }
    },
    {
      "cell_type": "code",
      "source": [
        "df_wsd_game2 = pd.read_csv(\"output_task2/wsd_app_2022-06-13.csv\")\n",
        "df_wsd_game2.head(5)\n",
        "df_relevant_answers = df_wsd_game2[df_wsd_game2['player.decision'].notna()]"
      ],
      "metadata": {
        "id": "ntfHYxCXJI4b"
      },
      "execution_count": 21,
      "outputs": []
    },
    {
      "cell_type": "code",
      "source": [
        "# df_relevant_answers = df_wsd_game.loc[df_wsd_game['participant._current_app_name'] == 'last']\n",
        "new_df_data = []\n",
        "for senses_concat in df_relevant_answers['player.senses']:\n",
        "  new_df_list = senses_concat.split(sep=\";;\")\n",
        "  new_df_data.append(new_df_list)\n",
        "df_relevant_answers['player.sensesList'] = new_df_data\n",
        "df_relevant_answers.head(5)"
      ],
      "metadata": {
        "id": "w4h3cKVnw9te",
        "colab": {
          "base_uri": "https://localhost:8080/",
          "height": 577
        },
        "outputId": "085d7dcf-e1d8-47ff-e7e5-2f08a396c09a"
      },
      "execution_count": 22,
      "outputs": [
        {
          "output_type": "stream",
          "name": "stderr",
          "text": [
            "/usr/local/lib/python3.7/dist-packages/ipykernel_launcher.py:6: SettingWithCopyWarning: \n",
            "A value is trying to be set on a copy of a slice from a DataFrame.\n",
            "Try using .loc[row_indexer,col_indexer] = value instead\n",
            "\n",
            "See the caveats in the documentation: https://pandas.pydata.org/pandas-docs/stable/user_guide/indexing.html#returning-a-view-versus-a-copy\n",
            "  \n"
          ]
        },
        {
          "output_type": "execute_result",
          "data": {
            "text/plain": [
              "   participant.id_in_session participant.code  \\\n",
              "0                          1         l81l91fj   \n",
              "1                          2         duey5jmx   \n",
              "2                          3         kb4xh90w   \n",
              "3                          4         dh34bcev   \n",
              "5                          6         wusx1aqt   \n",
              "\n",
              "                      participant.label  participant._is_bot  \\\n",
              "0  00020551b2--62a70d75111d247825ed60ce                    0   \n",
              "1  00020551b2--62a70d7993820275f9e6511f                    0   \n",
              "2  00020551b2--62a70d853e4bbc46d7b63ed5                    0   \n",
              "3  00020551b2--62a70d79037a78554529687d                    0   \n",
              "5  00020551b2--62a70d81cd14e60843e78de3                    0   \n",
              "\n",
              "   participant._index_in_pages  participant._max_page_index  \\\n",
              "0                           92                           95   \n",
              "1                           95                           95   \n",
              "2                           92                           95   \n",
              "3                           95                           95   \n",
              "5                           92                           95   \n",
              "\n",
              "  participant._current_app_name participant._current_page_name  \\\n",
              "0                       wsd_app                   FinalResults   \n",
              "1                          last                           Last   \n",
              "2                       wsd_app                   FinalResults   \n",
              "3                          last                           Last   \n",
              "5                       wsd_app                   FinalResults   \n",
              "\n",
              "           participant.time_started  participant.visited  ...  \\\n",
              "0  2022-06-13 10:12:09.495602+00:00                    1  ...   \n",
              "1  2022-06-13 10:12:18.424442+00:00                    1  ...   \n",
              "2  2022-06-13 10:12:28.742035+00:00                    1  ...   \n",
              "3  2022-06-13 10:12:30.388528+00:00                    1  ...   \n",
              "5  2022-06-13 10:12:33.761728+00:00                    1  ...   \n",
              "\n",
              "   group.is_eventual_agreement  group.is_golden_label  \\\n",
              "0                          0.0                    NaN   \n",
              "1                          0.0                    NaN   \n",
              "2                          0.0                    NaN   \n",
              "3                          0.0                    NaN   \n",
              "5                          0.0                    NaN   \n",
              "\n",
              "   subsession.round_number  session.code  session.label  session.mturk_HITId  \\\n",
              "0                        1      v8jw39uu            NaN                  NaN   \n",
              "1                        1      v8jw39uu            NaN                  NaN   \n",
              "2                        1      v8jw39uu            NaN                  NaN   \n",
              "3                        1      v8jw39uu            NaN                  NaN   \n",
              "5                        1      v8jw39uu            NaN                  NaN   \n",
              "\n",
              "   session.mturk_HITGroupId  session.comment  session.is_demo  \\\n",
              "0                       NaN              NaN                0   \n",
              "1                       NaN              NaN                0   \n",
              "2                       NaN              NaN                0   \n",
              "3                       NaN              NaN                0   \n",
              "5                       NaN              NaN                0   \n",
              "\n",
              "                                   player.sensesList  \n",
              "0  [a demanding or stimulating situation, a call ...  \n",
              "1  [a demanding or stimulating situation, a call ...  \n",
              "2  [a demanding or stimulating situation, a call ...  \n",
              "3  [a demanding or stimulating situation, a call ...  \n",
              "5  [a demanding or stimulating situation, a call ...  \n",
              "\n",
              "[5 rows x 37 columns]"
            ],
            "text/html": [
              "\n",
              "  <div id=\"df-466a7ce3-5e60-4fbc-b22b-a258c3f5acb6\">\n",
              "    <div class=\"colab-df-container\">\n",
              "      <div>\n",
              "<style scoped>\n",
              "    .dataframe tbody tr th:only-of-type {\n",
              "        vertical-align: middle;\n",
              "    }\n",
              "\n",
              "    .dataframe tbody tr th {\n",
              "        vertical-align: top;\n",
              "    }\n",
              "\n",
              "    .dataframe thead th {\n",
              "        text-align: right;\n",
              "    }\n",
              "</style>\n",
              "<table border=\"1\" class=\"dataframe\">\n",
              "  <thead>\n",
              "    <tr style=\"text-align: right;\">\n",
              "      <th></th>\n",
              "      <th>participant.id_in_session</th>\n",
              "      <th>participant.code</th>\n",
              "      <th>participant.label</th>\n",
              "      <th>participant._is_bot</th>\n",
              "      <th>participant._index_in_pages</th>\n",
              "      <th>participant._max_page_index</th>\n",
              "      <th>participant._current_app_name</th>\n",
              "      <th>participant._current_page_name</th>\n",
              "      <th>participant.time_started</th>\n",
              "      <th>participant.visited</th>\n",
              "      <th>...</th>\n",
              "      <th>group.is_eventual_agreement</th>\n",
              "      <th>group.is_golden_label</th>\n",
              "      <th>subsession.round_number</th>\n",
              "      <th>session.code</th>\n",
              "      <th>session.label</th>\n",
              "      <th>session.mturk_HITId</th>\n",
              "      <th>session.mturk_HITGroupId</th>\n",
              "      <th>session.comment</th>\n",
              "      <th>session.is_demo</th>\n",
              "      <th>player.sensesList</th>\n",
              "    </tr>\n",
              "  </thead>\n",
              "  <tbody>\n",
              "    <tr>\n",
              "      <th>0</th>\n",
              "      <td>1</td>\n",
              "      <td>l81l91fj</td>\n",
              "      <td>00020551b2--62a70d75111d247825ed60ce</td>\n",
              "      <td>0</td>\n",
              "      <td>92</td>\n",
              "      <td>95</td>\n",
              "      <td>wsd_app</td>\n",
              "      <td>FinalResults</td>\n",
              "      <td>2022-06-13 10:12:09.495602+00:00</td>\n",
              "      <td>1</td>\n",
              "      <td>...</td>\n",
              "      <td>0.0</td>\n",
              "      <td>NaN</td>\n",
              "      <td>1</td>\n",
              "      <td>v8jw39uu</td>\n",
              "      <td>NaN</td>\n",
              "      <td>NaN</td>\n",
              "      <td>NaN</td>\n",
              "      <td>NaN</td>\n",
              "      <td>0</td>\n",
              "      <td>[a demanding or stimulating situation, a call ...</td>\n",
              "    </tr>\n",
              "    <tr>\n",
              "      <th>1</th>\n",
              "      <td>2</td>\n",
              "      <td>duey5jmx</td>\n",
              "      <td>00020551b2--62a70d7993820275f9e6511f</td>\n",
              "      <td>0</td>\n",
              "      <td>95</td>\n",
              "      <td>95</td>\n",
              "      <td>last</td>\n",
              "      <td>Last</td>\n",
              "      <td>2022-06-13 10:12:18.424442+00:00</td>\n",
              "      <td>1</td>\n",
              "      <td>...</td>\n",
              "      <td>0.0</td>\n",
              "      <td>NaN</td>\n",
              "      <td>1</td>\n",
              "      <td>v8jw39uu</td>\n",
              "      <td>NaN</td>\n",
              "      <td>NaN</td>\n",
              "      <td>NaN</td>\n",
              "      <td>NaN</td>\n",
              "      <td>0</td>\n",
              "      <td>[a demanding or stimulating situation, a call ...</td>\n",
              "    </tr>\n",
              "    <tr>\n",
              "      <th>2</th>\n",
              "      <td>3</td>\n",
              "      <td>kb4xh90w</td>\n",
              "      <td>00020551b2--62a70d853e4bbc46d7b63ed5</td>\n",
              "      <td>0</td>\n",
              "      <td>92</td>\n",
              "      <td>95</td>\n",
              "      <td>wsd_app</td>\n",
              "      <td>FinalResults</td>\n",
              "      <td>2022-06-13 10:12:28.742035+00:00</td>\n",
              "      <td>1</td>\n",
              "      <td>...</td>\n",
              "      <td>0.0</td>\n",
              "      <td>NaN</td>\n",
              "      <td>1</td>\n",
              "      <td>v8jw39uu</td>\n",
              "      <td>NaN</td>\n",
              "      <td>NaN</td>\n",
              "      <td>NaN</td>\n",
              "      <td>NaN</td>\n",
              "      <td>0</td>\n",
              "      <td>[a demanding or stimulating situation, a call ...</td>\n",
              "    </tr>\n",
              "    <tr>\n",
              "      <th>3</th>\n",
              "      <td>4</td>\n",
              "      <td>dh34bcev</td>\n",
              "      <td>00020551b2--62a70d79037a78554529687d</td>\n",
              "      <td>0</td>\n",
              "      <td>95</td>\n",
              "      <td>95</td>\n",
              "      <td>last</td>\n",
              "      <td>Last</td>\n",
              "      <td>2022-06-13 10:12:30.388528+00:00</td>\n",
              "      <td>1</td>\n",
              "      <td>...</td>\n",
              "      <td>0.0</td>\n",
              "      <td>NaN</td>\n",
              "      <td>1</td>\n",
              "      <td>v8jw39uu</td>\n",
              "      <td>NaN</td>\n",
              "      <td>NaN</td>\n",
              "      <td>NaN</td>\n",
              "      <td>NaN</td>\n",
              "      <td>0</td>\n",
              "      <td>[a demanding or stimulating situation, a call ...</td>\n",
              "    </tr>\n",
              "    <tr>\n",
              "      <th>5</th>\n",
              "      <td>6</td>\n",
              "      <td>wusx1aqt</td>\n",
              "      <td>00020551b2--62a70d81cd14e60843e78de3</td>\n",
              "      <td>0</td>\n",
              "      <td>92</td>\n",
              "      <td>95</td>\n",
              "      <td>wsd_app</td>\n",
              "      <td>FinalResults</td>\n",
              "      <td>2022-06-13 10:12:33.761728+00:00</td>\n",
              "      <td>1</td>\n",
              "      <td>...</td>\n",
              "      <td>0.0</td>\n",
              "      <td>NaN</td>\n",
              "      <td>1</td>\n",
              "      <td>v8jw39uu</td>\n",
              "      <td>NaN</td>\n",
              "      <td>NaN</td>\n",
              "      <td>NaN</td>\n",
              "      <td>NaN</td>\n",
              "      <td>0</td>\n",
              "      <td>[a demanding or stimulating situation, a call ...</td>\n",
              "    </tr>\n",
              "  </tbody>\n",
              "</table>\n",
              "<p>5 rows × 37 columns</p>\n",
              "</div>\n",
              "      <button class=\"colab-df-convert\" onclick=\"convertToInteractive('df-466a7ce3-5e60-4fbc-b22b-a258c3f5acb6')\"\n",
              "              title=\"Convert this dataframe to an interactive table.\"\n",
              "              style=\"display:none;\">\n",
              "        \n",
              "  <svg xmlns=\"http://www.w3.org/2000/svg\" height=\"24px\"viewBox=\"0 0 24 24\"\n",
              "       width=\"24px\">\n",
              "    <path d=\"M0 0h24v24H0V0z\" fill=\"none\"/>\n",
              "    <path d=\"M18.56 5.44l.94 2.06.94-2.06 2.06-.94-2.06-.94-.94-2.06-.94 2.06-2.06.94zm-11 1L8.5 8.5l.94-2.06 2.06-.94-2.06-.94L8.5 2.5l-.94 2.06-2.06.94zm10 10l.94 2.06.94-2.06 2.06-.94-2.06-.94-.94-2.06-.94 2.06-2.06.94z\"/><path d=\"M17.41 7.96l-1.37-1.37c-.4-.4-.92-.59-1.43-.59-.52 0-1.04.2-1.43.59L10.3 9.45l-7.72 7.72c-.78.78-.78 2.05 0 2.83L4 21.41c.39.39.9.59 1.41.59.51 0 1.02-.2 1.41-.59l7.78-7.78 2.81-2.81c.8-.78.8-2.07 0-2.86zM5.41 20L4 18.59l7.72-7.72 1.47 1.35L5.41 20z\"/>\n",
              "  </svg>\n",
              "      </button>\n",
              "      \n",
              "  <style>\n",
              "    .colab-df-container {\n",
              "      display:flex;\n",
              "      flex-wrap:wrap;\n",
              "      gap: 12px;\n",
              "    }\n",
              "\n",
              "    .colab-df-convert {\n",
              "      background-color: #E8F0FE;\n",
              "      border: none;\n",
              "      border-radius: 50%;\n",
              "      cursor: pointer;\n",
              "      display: none;\n",
              "      fill: #1967D2;\n",
              "      height: 32px;\n",
              "      padding: 0 0 0 0;\n",
              "      width: 32px;\n",
              "    }\n",
              "\n",
              "    .colab-df-convert:hover {\n",
              "      background-color: #E2EBFA;\n",
              "      box-shadow: 0px 1px 2px rgba(60, 64, 67, 0.3), 0px 1px 3px 1px rgba(60, 64, 67, 0.15);\n",
              "      fill: #174EA6;\n",
              "    }\n",
              "\n",
              "    [theme=dark] .colab-df-convert {\n",
              "      background-color: #3B4455;\n",
              "      fill: #D2E3FC;\n",
              "    }\n",
              "\n",
              "    [theme=dark] .colab-df-convert:hover {\n",
              "      background-color: #434B5C;\n",
              "      box-shadow: 0px 1px 3px 1px rgba(0, 0, 0, 0.15);\n",
              "      filter: drop-shadow(0px 1px 2px rgba(0, 0, 0, 0.3));\n",
              "      fill: #FFFFFF;\n",
              "    }\n",
              "  </style>\n",
              "\n",
              "      <script>\n",
              "        const buttonEl =\n",
              "          document.querySelector('#df-466a7ce3-5e60-4fbc-b22b-a258c3f5acb6 button.colab-df-convert');\n",
              "        buttonEl.style.display =\n",
              "          google.colab.kernel.accessAllowed ? 'block' : 'none';\n",
              "\n",
              "        async function convertToInteractive(key) {\n",
              "          const element = document.querySelector('#df-466a7ce3-5e60-4fbc-b22b-a258c3f5acb6');\n",
              "          const dataTable =\n",
              "            await google.colab.kernel.invokeFunction('convertToInteractive',\n",
              "                                                     [key], {});\n",
              "          if (!dataTable) return;\n",
              "\n",
              "          const docLinkHtml = 'Like what you see? Visit the ' +\n",
              "            '<a target=\"_blank\" href=https://colab.research.google.com/notebooks/data_table.ipynb>data table notebook</a>'\n",
              "            + ' to learn more about interactive tables.';\n",
              "          element.innerHTML = '';\n",
              "          dataTable['output_type'] = 'display_data';\n",
              "          await google.colab.output.renderOutput(dataTable, element);\n",
              "          const docLink = document.createElement('div');\n",
              "          docLink.innerHTML = docLinkHtml;\n",
              "          element.appendChild(docLink);\n",
              "        }\n",
              "      </script>\n",
              "    </div>\n",
              "  </div>\n",
              "  "
            ]
          },
          "metadata": {},
          "execution_count": 22
        }
      ]
    },
    {
      "cell_type": "markdown",
      "source": [
        "#### Step 6: Preparing the task 2 data for evaluation"
      ],
      "metadata": {
        "id": "qVPhwCRza94r"
      }
    },
    {
      "cell_type": "code",
      "source": [
        "list_of_pred_task2 = []\n",
        "df_relevant_answers['player.decision'] = df_relevant_answers['player.decision'].astype('int')\n",
        "for idx, row in df_relevant_answers.iterrows():\n",
        "  pred_sense_idx = row['player.decision']\n",
        "  list_of_pred_task2.append([row['player.phrase'],row['player.sensesList'][pred_sense_idx], row['player.sentence']])"
      ],
      "metadata": {
        "id": "6T2AwcKo6L4b",
        "colab": {
          "base_uri": "https://localhost:8080/"
        },
        "outputId": "0859756b-5084-49ee-830f-e63e0f2e3c3a"
      },
      "execution_count": 25,
      "outputs": [
        {
          "output_type": "stream",
          "name": "stderr",
          "text": [
            "/usr/local/lib/python3.7/dist-packages/ipykernel_launcher.py:2: SettingWithCopyWarning: \n",
            "A value is trying to be set on a copy of a slice from a DataFrame.\n",
            "Try using .loc[row_indexer,col_indexer] = value instead\n",
            "\n",
            "See the caveats in the documentation: https://pandas.pydata.org/pandas-docs/stable/user_guide/indexing.html#returning-a-view-versus-a-copy\n",
            "  \n"
          ]
        }
      ]
    },
    {
      "cell_type": "markdown",
      "source": [
        "#### Step 7: Evaluate **task 2** for confusing phrases "
      ],
      "metadata": {
        "id": "UtpH7CKqbatx"
      }
    },
    {
      "cell_type": "code",
      "source": [
        "number_of_correct_responses = 0\n",
        "for pred in list_of_pred_task2:  \n",
        "  if compareData(pred, gold_data):\n",
        "    number_of_correct_responses += 1\n",
        "print(number_of_correct_responses/len(list_of_pred_task2))"
      ],
      "metadata": {
        "colab": {
          "base_uri": "https://localhost:8080/"
        },
        "id": "Ced0ULvJ0sC7",
        "outputId": "cbe55c5f-c676-46cd-ff36-047cbcf08d69"
      },
      "execution_count": 24,
      "outputs": [
        {
          "output_type": "stream",
          "name": "stdout",
          "text": [
            "0.235\n"
          ]
        }
      ]
    },
    {
      "cell_type": "markdown",
      "source": [
        "## Pre-processing data for Task 2"
      ],
      "metadata": {
        "id": "UqX8g8gIb6xh"
      }
    },
    {
      "cell_type": "code",
      "source": [
        "#Get a list of unique phrases from the df\n",
        "list_of_unique_phrases = df_task1['INPUT:phrase'].unique()\n",
        "\n",
        "\n",
        "#Get probabilities for answers for each unique sense\n",
        "list_dict_diagreed_phrases = []\n",
        "for phrase in list_of_unique_phrases:\n",
        "  df_phrase = df_task1.loc[df_task1['INPUT:phrase'] == phrase]\n",
        "  list_of_possible_ans = df_phrase['OUTPUT:answer'].unique()\n",
        "  length = len(df_phrase)\n",
        "  list_of_probability_possible_ans = []\n",
        "  for ans in list_of_possible_ans:\n",
        "    df_ans = df_phrase.loc[df_phrase['OUTPUT:answer'] == ans]\n",
        "    round((len(df_ans)/length),2)\n",
        "    list_of_probability_possible_ans.append(round((len(df_ans)/length),2))\n",
        "  list_dict_diagreed_phrases.append({phrase:sorted(list_of_probability_possible_ans, reverse=True)})\n",
        "list_dict_diagreed_phrases[0]"
      ],
      "metadata": {
        "id": "Ooea3MB0_6PR",
        "colab": {
          "base_uri": "https://localhost:8080/"
        },
        "outputId": "b68b4da6-a70c-4c31-a1a3-715b8b980198"
      },
      "execution_count": 26,
      "outputs": [
        {
          "output_type": "execute_result",
          "data": {
            "text/plain": [
              "{'art': [0.78, 0.11, 0.11]}"
            ]
          },
          "metadata": {},
          "execution_count": 26
        }
      ]
    },
    {
      "cell_type": "code",
      "source": [
        "#Isolate a list of most confusing phrases on the basis of the margin error \n",
        "dict_margin_error = {}\n",
        "for phrase_dict in list_dict_diagreed_phrases:\n",
        "  for k in phrase_dict:\n",
        "    if len(phrase_dict[k]) > 1:\n",
        "      highest_prob_diff =  round((phrase_dict[k][0] -  phrase_dict[k][1]),2)\n",
        "      dict_margin_error[k]=highest_prob_diff\n",
        "\n",
        "sorted_dict_margin_error = dict(sorted(dict_margin_error.items(), key=lambda item: item[1]))\n",
        "list_confusing_phrases = []\n",
        "for key in sorted_dict_margin_error:\n",
        "  if sorted_dict_margin_error[key] == 0.0:\n",
        "    list_confusing_phrases.append(key)\n",
        "\n",
        "list_confusing_phrases"
      ],
      "metadata": {
        "id": "rLf0sknQAht0",
        "colab": {
          "base_uri": "https://localhost:8080/"
        },
        "outputId": "be9d904b-f4d3-4646-a9e9-abb781715292"
      },
      "execution_count": 27,
      "outputs": [
        {
          "output_type": "execute_result",
          "data": {
            "text/plain": [
              "['challenges',\n",
              " 'nodded',\n",
              " 'equity',\n",
              " 'workers',\n",
              " 'individual',\n",
              " 'descending',\n",
              " 'European',\n",
              " 'generalizations',\n",
              " 'appeals',\n",
              " 'matters',\n",
              " 'securities',\n",
              " 'theory',\n",
              " 'aware',\n",
              " 'leaned',\n",
              " 'At the same time',\n",
              " 'power',\n",
              " 'bothered',\n",
              " 'saluting']"
            ]
          },
          "metadata": {},
          "execution_count": 27
        }
      ]
    },
    {
      "cell_type": "code",
      "source": [
        "#CHECK PROBABILITY SORTING\n",
        "df_damage = df_task1.loc[df_task1['INPUT:phrase'] == 'descending']\n",
        "list_of_possible_ans = df_damage['OUTPUT:answer'].unique()\n",
        "length = len(df_damage)\n",
        "list_of_probability_possible_ans = []\n",
        "for ans in list_of_possible_ans:\n",
        "  df_ans = df_damage.loc[df_damage['OUTPUT:answer'] == ans]\n",
        "  print(round((len(df_ans)/length),2))"
      ],
      "metadata": {
        "id": "Eo1okWMaVTH0",
        "colab": {
          "base_uri": "https://localhost:8080/"
        },
        "outputId": "f0aebe86-b147-469e-f0ba-d2c6c76f223d"
      },
      "execution_count": 28,
      "outputs": [
        {
          "output_type": "stream",
          "name": "stdout",
          "text": [
            "0.38\n",
            "0.38\n",
            "0.25\n"
          ]
        }
      ]
    },
    {
      "cell_type": "code",
      "source": [
        "# #Get df with only confusing \n",
        "f2 = open('task 1/toloka_data.json')\n",
        "phrase_data = json.load(f2)\n",
        "# phrase_data[\"data\"][0][\"phrase\"]\n",
        "confusing_data = []\n",
        "for confusing_phrase in list_confusing_phrases:\n",
        "  for idx, phrase_dict in enumerate(phrase_data[\"data\"]):\n",
        "    if phrase_data[\"data\"][idx][\"phrase\"] == confusing_phrase:\n",
        "      confusing_data.append(phrase_data[\"data\"][idx])"
      ],
      "metadata": {
        "id": "NONGhKTMOwLI"
      },
      "execution_count": 30,
      "outputs": []
    },
    {
      "cell_type": "code",
      "source": [
        "with open('confusing_phrases.json', 'w') as fout:\n",
        "    json.dump(confusing_data, fout, indent=4, sort_keys=True)"
      ],
      "metadata": {
        "id": "nciVPuOjUjDx"
      },
      "execution_count": null,
      "outputs": []
    }
  ]
}